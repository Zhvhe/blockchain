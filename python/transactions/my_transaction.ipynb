{
 "cells": [
  {
   "cell_type": "code",
   "execution_count": 1,
   "id": "f4662463",
   "metadata": {},
   "outputs": [
    {
     "data": {
      "text/plain": [
       "'\\nTrying to outline out a basic transaction \\nin a notebook\\n'"
      ]
     },
     "execution_count": 1,
     "metadata": {},
     "output_type": "execute_result"
    }
   ],
   "source": [
    "#!/usr/bin/env python3\n",
    "\n",
    "\"\"\"\n",
    "Trying to outline out a basic transaction \n",
    "in a notebook\n",
    "\"\"\""
   ]
  },
  {
   "cell_type": "code",
   "execution_count": 2,
   "id": "75027046",
   "metadata": {},
   "outputs": [
    {
     "name": "stdout",
     "output_type": "stream",
     "text": [
      "C:\\Users\\zhvhe\\Documents\\GitHub\\blockchain\\python\n"
     ]
    }
   ],
   "source": [
    "\"\"\"\n",
    "basic imports of standard libraries,\n",
    "and finding and importing provided libraries,\n",
    "\"\"\"\n",
    "import os, sys\n",
    "\n",
    "if '__file__' not in globals():\n",
    "    sys.path.append(os.path.dirname(os.path.abspath('').split('transactions')[0]))\n",
    "    print(os.path.dirname(os.path.abspath('').split('transactions')[0]))\n",
    "else:\n",
    "    sys.path.append(os.path.dirname(__file__).split('transactions')[0])\n",
    "\n",
    "if(os.sep == '/'):\n",
    "    from lib.sign import sign_tx\n",
    "else:\n",
    "    from lib.sign_win import sign_tx\n",
    "from lib.encoder  import encode_tx, encode_script\n",
    "from lib.helper   import decode_address\n",
    "from lib.hash     import hash160, hash256, sha256\n",
    "from lib.rpc      import RpcSocket"
   ]
  },
  {
   "cell_type": "code",
   "execution_count": 3,
   "id": "889d27f7",
   "metadata": {},
   "outputs": [],
   "source": [
    "## Setup our RPC socket.\n",
    "rpc = RpcSocket({ 'wallet': 'test2' })\n",
    "assert rpc.check()"
   ]
  },
  {
   "cell_type": "code",
   "execution_count": 4,
   "id": "61d5483a",
   "metadata": {},
   "outputs": [
    {
     "name": "stdout",
     "output_type": "stream",
     "text": [
      "{'address': 'tb1qldgv444r8705w4seuvcsx7nz8sq5srguxxwfxl', 'priv_key': '45880cda3de2237b658aabeb4480cd8c5882b8e50085fadf21cb12f41c3885ae', 'pub_key': '03bcdb6ad6b88740b0dc0debd6f78eb1ea6b0f0ad98d62b1b4347794fe9f3415ff', 'pubkey_hash': 'fb50cad6a33f9f475619e331037a623c01480d1c', 'redeem_script': '1976a914fb50cad6a33f9f475619e331037a623c01480d1c88ac', 'txid': 'f754c8478fc32a36f6f990b077f215103df72fc2da6cc177006441cabbc2800c', 'vout': 0, 'value': 1582806}\n"
     ]
    }
   ],
   "source": [
    "## First, we will lookup an existing utxo,\n",
    "## and use that to fund our transaction.\n",
    "utxo = rpc.get_utxo(0)\n",
    "print(utxo)"
   ]
  },
  {
   "cell_type": "code",
   "execution_count": 5,
   "id": "033cddf4",
   "metadata": {},
   "outputs": [
    {
     "name": "stdout",
     "output_type": "stream",
     "text": [
      "{'address': 'tb1qr8dq6jrwz69cqjw9gsrhexh3dj39xxmttg5264', 'priv_key': '656c99aabf99b7d08d18c408045d5bb7e0582f071c8db795612d3bc7f7699d0c', 'pub_key': '0251de3a4197e034bb34f4c01980fd368b886f707f43fa3f3beda1e1d0e111438e', 'pubkey_hash': '19da0d486e168b8049c544077c9af16ca2531b6b', 'redeem_script': '1976a91419da0d486e168b8049c544077c9af16ca2531b6b88ac'}\n"
     ]
    }
   ],
   "source": [
    "## We will also grab a new receiving address,\n",
    "## and lock the funds to this address.\n",
    "recv = rpc.get_recv()\n",
    "print(recv)"
   ]
  },
  {
   "cell_type": "code",
   "execution_count": 6,
   "id": "f8c70d92",
   "metadata": {},
   "outputs": [],
   "source": [
    "## Replace this default preimage with your own secret.\n",
    "secret_preimage = 'weareallsatoshi'\n",
    "\n",
    "## Convert the secret to bytes, then hash using hash160 function.\n",
    "secret_bytes = secret_preimage.encode('utf8').hex()\n",
    "secret_hash  = hash160(secret_bytes).hex()"
   ]
  },
  {
   "cell_type": "code",
   "execution_count": 7,
   "id": "cd92fb0d-bc67-497f-b229-c49d4aeb6c03",
   "metadata": {},
   "outputs": [],
   "source": [
    "## This is where we specify the version number for the program interpreter. \n",
    "## We'll be using version 0.\n",
    "script_version = 0\n",
    "\n",
    "## Here is the locking script that we will be using. We are going to\n",
    "## require the redeemer to reveral the secret, along with their public\n",
    "## key for the receipt address, and matching signature.\n",
    "script_words = [\n",
    "    'OP_HASH160', secret_hash, 'OP_EQUALVERIFY', \n",
    "    'OP_DUP', 'OP_HASH160', hash160(recv['pub_key']).hex(), 'OP_EQUALVERIFY', \n",
    "    'OP_CHECKSIG'\n",
    "]"
   ]
  },
  {
   "cell_type": "code",
   "execution_count": 8,
   "id": "e8c69dcf-ec95-4270-bb9a-338f89b431cf",
   "metadata": {},
   "outputs": [],
   "source": [
    "## This is the hex-encoded format of the script. We will present this when \n",
    "## we unlock and spend the output. It should match the pre-image used for \n",
    "## making the script hash.\n",
    "redeem_script = encode_script(script_words, prepend_len=False).hex()\n",
    "\n",
    "## We hash the script using sha256, then provide a version number\n",
    "## along with the hash. This will lock the transaction output to \n",
    "## accept only the program script which matches the hash.\n",
    "script_hash = sha256(redeem_script).hex()\n",
    "\n",
    "## Calculate the value of the transaction output, minus fees.\n",
    "locking_tx_value = utxo['value'] - 1000"
   ]
  },
  {
   "cell_type": "code",
   "execution_count": 9,
   "id": "44fa2d54",
   "metadata": {},
   "outputs": [],
   "source": [
    "## The initial locking transaction. This spends the utxo from our funding \n",
    "## transaction, and moves the funds to the utxo for our witness program.\n",
    "locking_tx = {\n",
    "    'version': 1,\n",
    "    'vin': [{\n",
    "        'txid': utxo['txid'],\n",
    "        'vout': utxo['vout'],\n",
    "        'script_sig': [],\n",
    "        'sequence': 0xFFFFFFFF\n",
    "    }],\n",
    "    'vout': [{\n",
    "        'value': locking_tx_value,\n",
    "        'script_pubkey': [ script_version, script_hash ]\n",
    "    }],\n",
    "    'locktime': 0\n",
    "}"
   ]
  },
  {
   "cell_type": "code",
   "execution_count": 10,
   "id": "03cdc353",
   "metadata": {},
   "outputs": [],
   "source": [
    "## Encode the transaction into raw hex,\n",
    "## and calculate the transaction ID\n",
    "locking_hex  = encode_tx(locking_tx)\n",
    "locking_txid = hash256(bytes.fromhex(locking_hex))[::-1].hex()"
   ]
  },
  {
   "cell_type": "code",
   "execution_count": 11,
   "id": "73ed0b5f",
   "metadata": {},
   "outputs": [],
   "source": [
    "## Sign the transaction using our key-pair from the utxo.\n",
    "locking_sig = sign_tx(\n",
    "  locking_tx,               # The transaction.\n",
    "  0,                        # The input being signed.\n",
    "  utxo['value'],            # The value of the utxo being spent.\n",
    "  utxo['pubkey_hash'],\n",
    "  utxo['priv_key']          # The private key to the utxo pubkey hash.\n",
    ")"
   ]
  },
  {
   "cell_type": "code",
   "execution_count": 12,
   "id": "6724e81a",
   "metadata": {},
   "outputs": [],
   "source": [
    "## Add the signature and public key to the transaction.\n",
    "locking_tx['vin'][0]['witness'] = [ locking_sig, utxo['pub_key'] ]"
   ]
  },
  {
   "cell_type": "code",
   "execution_count": 13,
   "id": "632567a2",
   "metadata": {},
   "outputs": [
    {
     "name": "stdout",
     "output_type": "stream",
     "text": [
      "\n",
      "# Pay-to-Witness-Script-Hash Example\n",
      "\n",
      "Locking Txid:\n",
      "085c98047e7abe778c39dde19d54bc11ebe98a9717e663a23bcd63a16a50fdd7\n",
      "\n",
      "Redeem Script:\n",
      "a91478d574f6f76809749cb351af7e20ae52082e2e378876a91419da0d486e168b8049c544077c9af16ca2531b6b88ac\n",
      "\n",
      "Locking Tx:\n",
      "010000000001010c80c2bbca41640077c16cdac22ff73d1015f277b090f9f6362ac38f47c854f70000000000ffffffff01ee2218000000000022002082525f9f4512e25bea993b5b9c22d43e09d5c2cae083b2b9303a3802af13b14b02473044022075d7ed2775030f87b73ecf129127d5953660cd3acc2e4b5a93967db703468f7c0220082dbe831cbce0a0f16425a95dee6a4e4f3e86c6342a20a336a7c69f5810efd5012103bcdb6ad6b88740b0dc0debd6f78eb1ea6b0f0ad98d62b1b4347794fe9f3415ff00000000\n",
      "\n"
     ]
    }
   ],
   "source": [
    "print(f'''\n",
    "# Pay-to-Witness-Script-Hash Example\n",
    "\n",
    "Locking Txid:\n",
    "{locking_txid}\n",
    "\n",
    "Redeem Script:\n",
    "{redeem_script}\n",
    "\n",
    "Locking Tx:\n",
    "{encode_tx(locking_tx)}\n",
    "''')"
   ]
  },
  {
   "cell_type": "code",
   "execution_count": 14,
   "id": "3013c671",
   "metadata": {},
   "outputs": [
    {
     "data": {
      "text/plain": [
       "'085c98047e7abe778c39dde19d54bc11ebe98a9717e663a23bcd63a16a50fdd7'"
      ]
     },
     "execution_count": 14,
     "metadata": {},
     "output_type": "execute_result"
    }
   ],
   "source": [
    "## send it off :D\n",
    "rpc.transact(encode_tx(locking_tx))"
   ]
  },
  {
   "cell_type": "code",
   "execution_count": 15,
   "id": "da4e4730",
   "metadata": {},
   "outputs": [],
   "source": [
    "## Bech32 addresses will decode into a script version and pubkey hash.\n",
    "script_version, pubkey_hash = decode_address(recv['address'])"
   ]
  },
  {
   "cell_type": "code",
   "execution_count": 16,
   "id": "7475ae2e",
   "metadata": {},
   "outputs": [],
   "source": [
    "## This transaction will redeem the previous utxo by providing the secret \n",
    "## pre-image, plus the public key and signature, plus the witness program. \n",
    "## Once the transaction is confirmed, your wallet software should recognize \n",
    "## this utxo as spendable.\n",
    "redeem_tx = {\n",
    "    'version': 1,\n",
    "    'vin': [{\n",
    "        'txid': locking_txid,\n",
    "        'vout': 0,\n",
    "        'script_sig': [],\n",
    "        'sequence': 0xFFFFFFFF\n",
    "    }],\n",
    "    'vout': [{\n",
    "        'value': locking_tx_value - 1000,\n",
    "        'script_pubkey': [ script_version, pubkey_hash ]\n",
    "    }],\n",
    "    'locktime':0\n",
    "}\n",
    "\n",
    "redeem_sig = sign_tx(\n",
    "  redeem_tx,\n",
    "  0,\n",
    "  locking_tx_value,\n",
    "  redeem_script,\n",
    "  recv['priv_key']\n",
    ")"
   ]
  },
  {
   "cell_type": "code",
   "execution_count": 17,
   "id": "d258ac65-00f9-46dd-a1a1-9640fd38edec",
   "metadata": {},
   "outputs": [
    {
     "name": "stdout",
     "output_type": "stream",
     "text": [
      "Unlocking Tx:\n",
      "01000000000101d7fd506aa163cd3ba263e617978ae9eb11bc549de1dd398c77be7a7e04985c080000000000ffffffff01061f18000000000016001419da0d486e168b8049c544077c9af16ca2531b6b044830450221008cf335fb2ee4275649d91e49743e7009bf155eb6d0e20707e366e8a7876a42c20220485ea0ec7a962080b8f464d3aaa7f8d362bda8c16891a90b5e19013577643a1601210251de3a4197e034bb34f4c01980fd368b886f707f43fa3f3beda1e1d0e111438e0f7765617265616c6c7361746f73686930a91478d574f6f76809749cb351af7e20ae52082e2e378876a91419da0d486e168b8049c544077c9af16ca2531b6b88ac00000000\n"
     ]
    }
   ],
   "source": [
    "redeem_tx['vin'][0]['witness'] = [ redeem_sig, recv['pub_key'], secret_bytes, redeem_script ]\n",
    "\n",
    "print(f'Unlocking Tx:\\n{encode_tx(redeem_tx)}')"
   ]
  },
  {
   "cell_type": "code",
   "execution_count": 18,
   "id": "0393c7d8-3966-4f37-a327-ca6a7eafe823",
   "metadata": {},
   "outputs": [
    {
     "data": {
      "text/plain": [
       "'cc3f42167a6c7ba24151ba3031a826a38cf601a6450285db03b1b7274b22e618'"
      ]
     },
     "execution_count": 18,
     "metadata": {},
     "output_type": "execute_result"
    }
   ],
   "source": [
    "## redeem it\n",
    "rpc.transact(encode_tx(redeem_tx))"
   ]
  }
 ],
 "metadata": {
  "kernelspec": {
   "display_name": "Python 3 (ipykernel)",
   "language": "python",
   "name": "python3"
  },
  "language_info": {
   "codemirror_mode": {
    "name": "ipython",
    "version": 3
   },
   "file_extension": ".py",
   "mimetype": "text/x-python",
   "name": "python",
   "nbconvert_exporter": "python",
   "pygments_lexer": "ipython3",
   "version": "3.10.8"
  }
 },
 "nbformat": 4,
 "nbformat_minor": 5
}
