{
 "cells": [
  {
   "cell_type": "code",
   "execution_count": 1,
   "id": "0656db93",
   "metadata": {},
   "outputs": [
    {
     "data": {
      "text/plain": [
       "'\\nTrying to outline out a basic transaction \\nin a notebook\\n'"
      ]
     },
     "execution_count": 1,
     "metadata": {},
     "output_type": "execute_result"
    }
   ],
   "source": [
    "#!/usr/bin/env python3\n",
    "\n",
    "\"\"\"\n",
    "Trying to outline out a basic transaction \n",
    "in a notebook\n",
    "\"\"\""
   ]
  },
  {
   "cell_type": "code",
   "execution_count": 2,
   "id": "8c2faef1",
   "metadata": {},
   "outputs": [
    {
     "name": "stdout",
     "output_type": "stream",
     "text": [
      "C:\\Users\\zhvhe\\Documents\\GitHub\\blockchain\\python\n",
      "['C:\\\\Users\\\\zhvhe\\\\Documents\\\\GitHub\\\\blockchain\\\\python\\\\transactions', 'C:\\\\Program Files\\\\WindowsApps\\\\PythonSoftwareFoundation.Python.3.10_3.10.2288.0_x64__qbz5n2kfra8p0\\\\python310.zip', 'C:\\\\Program Files\\\\WindowsApps\\\\PythonSoftwareFoundation.Python.3.10_3.10.2288.0_x64__qbz5n2kfra8p0\\\\DLLs', 'C:\\\\Program Files\\\\WindowsApps\\\\PythonSoftwareFoundation.Python.3.10_3.10.2288.0_x64__qbz5n2kfra8p0\\\\lib', 'C:\\\\Users\\\\zhvhe\\\\AppData\\\\Local\\\\Microsoft\\\\WindowsApps\\\\PythonSoftwareFoundation.Python.3.10_qbz5n2kfra8p0', '', 'C:\\\\Users\\\\zhvhe\\\\AppData\\\\Local\\\\Packages\\\\PythonSoftwareFoundation.Python.3.10_qbz5n2kfra8p0\\\\LocalCache\\\\local-packages\\\\Python310\\\\site-packages', 'C:\\\\Users\\\\zhvhe\\\\AppData\\\\Local\\\\Packages\\\\PythonSoftwareFoundation.Python.3.10_qbz5n2kfra8p0\\\\LocalCache\\\\local-packages\\\\Python310\\\\site-packages\\\\win32', 'C:\\\\Users\\\\zhvhe\\\\AppData\\\\Local\\\\Packages\\\\PythonSoftwareFoundation.Python.3.10_qbz5n2kfra8p0\\\\LocalCache\\\\local-packages\\\\Python310\\\\site-packages\\\\win32\\\\lib', 'C:\\\\Users\\\\zhvhe\\\\AppData\\\\Local\\\\Packages\\\\PythonSoftwareFoundation.Python.3.10_qbz5n2kfra8p0\\\\LocalCache\\\\local-packages\\\\Python310\\\\site-packages\\\\Pythonwin', 'C:\\\\Program Files\\\\WindowsApps\\\\PythonSoftwareFoundation.Python.3.10_3.10.2288.0_x64__qbz5n2kfra8p0', 'C:\\\\Program Files\\\\WindowsApps\\\\PythonSoftwareFoundation.Python.3.10_3.10.2288.0_x64__qbz5n2kfra8p0\\\\lib\\\\site-packages', 'C:\\\\Users\\\\zhvhe\\\\Documents\\\\GitHub\\\\blockchain\\\\python']\n"
     ]
    }
   ],
   "source": [
    "\"\"\"\n",
    "basic imports of standard libraries,\n",
    "and finding and importing provided libraries,\n",
    "\"\"\"\n",
    "import os, sys\n",
    "\n",
    "if '__file__' not in globals():\n",
    "    sys.path.append(os.path.dirname(os.path.abspath('').split('transactions')[0]))\n",
    "    print(os.path.dirname(os.path.abspath('').split('transactions')[0]))\n",
    "else:\n",
    "    sys.path.append(os.path.dirname(__file__).split('transactions')[0])\n",
    "\n",
    "print(sys.path)\n",
    "import lib"
   ]
  },
  {
   "cell_type": "code",
   "execution_count": 3,
   "id": "a32d5359",
   "metadata": {},
   "outputs": [],
   "source": [
    "## Setup our RPC socket.\n",
    "rpc = lib.RpcSocket({ 'wallet': 'test2' })\n",
    "assert rpc.check()"
   ]
  },
  {
   "cell_type": "code",
   "execution_count": 4,
   "id": "81f938da",
   "metadata": {},
   "outputs": [],
   "source": [
    "## Get a utxo for Alice.\n",
    "alice_utxo = rpc.get_utxo(0)"
   ]
  },
  {
   "cell_type": "code",
   "execution_count": 5,
   "id": "c8ede610",
   "metadata": {},
   "outputs": [],
   "source": [
    "## Get a change address for Alice.\n",
    "alice_change_txout = rpc.get_recv(fmt='base58')\n",
    "alice_pubkey_hash  = lib.decode_address(alice_change_txout['address'])"
   ]
  },
  {
   "cell_type": "code",
   "execution_count": 6,
   "id": "3a772865",
   "metadata": {},
   "outputs": [],
   "source": [
    "## Get a payment address for Bob.\n",
    "bob_payment_txout = rpc.get_recv(fmt='base58')\n",
    "bob_pubkey_hash   = lib.decode_address(bob_payment_txout['address'])"
   ]
  },
  {
   "cell_type": "code",
   "execution_count": 7,
   "id": "03b3ad95",
   "metadata": {},
   "outputs": [],
   "source": [
    "## Calculate our output amounts (fees!!!).\n",
    "fee = 1000\n",
    "bob_recv_value = alice_utxo['value'] // 2\n",
    "alice_change_value = alice_utxo['value'] // 2 - fee"
   ]
  },
  {
   "cell_type": "code",
   "execution_count": 8,
   "id": "13e6359f",
   "metadata": {},
   "outputs": [],
   "source": [
    "## The spending transaction.\n",
    "atob_tx = {\n",
    "    'version': 1,\n",
    "    'vin': [{\n",
    "        # We are unlocking the utxo from Alice.\n",
    "        'txid': alice_utxo['txid'],\n",
    "        'vout': alice_utxo['vout'],\n",
    "        'script_sig': [],\n",
    "        'sequence': 0xFFFFFFFF\n",
    "    }],\n",
    "    'vout': [\n",
    "        {\n",
    "            'value': bob_recv_value,\n",
    "            'script_pubkey': ['OP_DUP', 'OP_HASH160', bob_pubkey_hash, 'OP_EQUALVERIFY', 'OP_CHECKSIG']\n",
    "        },\n",
    "        {\n",
    "            'value': alice_change_value,\n",
    "            'script_pubkey': ['OP_DUP', 'OP_HASH160', alice_pubkey_hash, 'OP_EQUALVERIFY', 'OP_CHECKSIG']\n",
    "        }\n",
    "    ],\n",
    "    'locktime': 0\n",
    "}"
   ]
  },
  {
   "cell_type": "code",
   "execution_count": 9,
   "id": "478afe7d",
   "metadata": {},
   "outputs": [],
   "source": [
    "## Serialize the transaction and calculate the TXID.\n",
    "atob_hex  = lib.encode_tx(atob_tx)\n",
    "atob_txid = lib.hash256(bytes.fromhex(atob_hex))[::-1].hex()"
   ]
  },
  {
   "cell_type": "code",
   "execution_count": 10,
   "id": "e8fe6cfe",
   "metadata": {},
   "outputs": [],
   "source": [
    "## The redeem script is the LOTR Mines or Moria password. (TODO)\n",
    "redeem_script = f\"76a914{alice_utxo['pubkey_hash']}88ac\""
   ]
  },
  {
   "cell_type": "code",
   "execution_count": 11,
   "id": "94ab62ac",
   "metadata": {},
   "outputs": [],
   "source": [
    "## We are signing Alice's UTXO using BIP143 standard.\n",
    "alice_signature = lib.sign_tx(\n",
    "    atob_tx,                # The transaction.\n",
    "    0,                      # The input being signed.\n",
    "    alice_utxo['value'],    # The value of the utxo being spent.\n",
    "    redeem_script,          # The redeem script to unlock the utxo. \n",
    "    alice_utxo['priv_key']  # The private key to the utxo pubkey hash.\n",
    ")"
   ]
  },
  {
   "cell_type": "code",
   "execution_count": 12,
   "id": "61719dd6",
   "metadata": {},
   "outputs": [],
   "source": [
    "## Include the arguments needed to unlock the redeem script.('melon')\n",
    "atob_tx['vin'][0]['witness'] = [ alice_signature, alice_utxo['pub_key'] ]"
   ]
  },
  {
   "cell_type": "code",
   "execution_count": 13,
   "id": "1651b807",
   "metadata": {},
   "outputs": [
    {
     "name": "stdout",
     "output_type": "stream",
     "text": [
      "\n",
      "## Pay-to-Pubkey-Hash Example ##\n",
      "\n",
      "-- Transaction Id --\n",
      "85f2e2cec9552b7279920b4103d32e9fd509babdeda668af2a9d084a2e55584d\n",
      "\n",
      "-- Alice UTXO --\n",
      "     Txid : c1006910b7023108e46b9808283db90aca0f37c0e29d9ad4719585a35232a501\n",
      "     Vout : 0\n",
      "    Value : 5000000000\n",
      "     Hash : 90c45ba6539c0ba7fad922e96f0573ccddbcb5fd\n",
      "\n",
      "-- Sending to Bob --\n",
      "  Address : n1d2L55SdYMqmND8nvSLVYX58jg13dFoik\n",
      "    Coins : 2500000000\n",
      "\n",
      "-- Change --\n",
      "  Address : mqWphuLhVcj331KfBC9Qiiqdo2tR8tJqTy\n",
      "      Fee : 1000\n",
      "    Coins : 2499999000\n",
      "\n",
      "-- Hex --\n",
      "0100000000010101a53252a3859571d49a9de2c0370fca0ab93d2808986be4083102b7106900c10000000000ffffffff0200f90295000000001976a914dc8861277c0f105d83007ecdb996f5f0171d799d88ac18f50295000000001976a9146daaec4b18029f3a8878de5c09c4e3ff544925fb88ac0247304402201573f8c1282bb8ee104c635e92b5d7d72383a6e5e4a7cdd9c6ebcf7cbad9231802201ad12a3ee88c481a1fc06ddf033fe766be26c38022d61d50f7588eff246530f2012103d30c3f0adf62d93c30fe841491e434759018030e30b97e2f9aef4daeebf8806300000000\n",
      "\n"
     ]
    }
   ],
   "source": [
    "print(f'''\n",
    "## Pay-to-Pubkey-Hash Example ##\n",
    "\n",
    "-- Transaction Id --\n",
    "{atob_txid}\n",
    "\n",
    "-- Alice UTXO --\n",
    "     Txid : {alice_utxo['txid']}\n",
    "     Vout : {alice_utxo['vout']}\n",
    "    Value : {alice_utxo['value']}\n",
    "     Hash : {alice_utxo['pubkey_hash']}\n",
    "\n",
    "-- Sending to Bob --\n",
    "  Address : {bob_payment_txout['address']}\n",
    "    Coins : {bob_recv_value}\n",
    "\n",
    "-- Change --\n",
    "  Address : {alice_change_txout['address']}\n",
    "      Fee : {fee}\n",
    "    Coins : {alice_change_value}\n",
    "\n",
    "-- Hex --\n",
    "{lib.encode_tx(atob_tx)}\n",
    "''')"
   ]
  },
  {
   "cell_type": "code",
   "execution_count": 14,
   "id": "29cbd4e5",
   "metadata": {},
   "outputs": [],
   "source": [
    "## send it off :D"
   ]
  },
  {
   "cell_type": "code",
   "execution_count": 15,
   "id": "03ee1a8b",
   "metadata": {},
   "outputs": [],
   "source": [
    "## redeem it :D "
   ]
  },
  {
   "cell_type": "code",
   "execution_count": null,
   "id": "06352924",
   "metadata": {},
   "outputs": [],
   "source": []
  }
 ],
 "metadata": {
  "kernelspec": {
   "display_name": "Python 3 (ipykernel)",
   "language": "python",
   "name": "python3"
  },
  "language_info": {
   "codemirror_mode": {
    "name": "ipython",
    "version": 3
   },
   "file_extension": ".py",
   "mimetype": "text/x-python",
   "name": "python",
   "nbconvert_exporter": "python",
   "pygments_lexer": "ipython3",
   "version": "3.10.8"
  }
 },
 "nbformat": 4,
 "nbformat_minor": 5
}
